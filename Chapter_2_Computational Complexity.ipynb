{
 "cells": [
  {
   "cell_type": "markdown",
   "metadata": {},
   "source": [
    "## Computer Architecture"
   ]
  },
  {
   "cell_type": "markdown",
   "metadata": {},
   "source": [
    "A computer consists of a Central Processing Unit (i.e. the CPU) that interacts with\n",
    "Input/Output (i.e.I/O) devices like a keyboard, mouse, display, and network interface"
   ]
  },
  {
   "cell_type": "markdown",
   "metadata": {},
   "source": [
    "When you run a program it is first read from a storage device like a hard drive into the\n",
    "RAM of the computer. RAM loses its contents when\n",
    "the power is shut off, so copies of programs are only stored in RAM while they are\n",
    "running."
   ]
  },
  {
   "cell_type": "markdown",
   "metadata": {},
   "source": [
    "The RAM of a computer holds a program as it is executing and also holds data that\n",
    "the program is manipulating."
   ]
  },
  {
   "cell_type": "markdown",
   "metadata": {},
   "source": [
    "The CPU reads input from\n",
    "the input devices and stores data values in the RAM. The CPU also contains a very\n",
    "limited amount of memory, usually called registers. "
   ]
  },
  {
   "cell_type": "markdown",
   "metadata": {},
   "source": [
    "When an operation is performed\n",
    "by the CPU, such as adding two numbers together, the operands must be in registers in\n",
    "the CPU"
   ]
  },
  {
   "cell_type": "markdown",
   "metadata": {},
   "source": [
    "Typical operations that are performed by the CPU are addition, subtraction,\n",
    "multiplication, division, and storing and retrieving values from the RAM.\n"
   ]
  },
  {
   "cell_type": "markdown",
   "metadata": {},
   "source": [
    "### Running a Program"
   ]
  },
  {
   "cell_type": "markdown",
   "metadata": {},
   "source": [
    "1. The program is read from the storage device into RAM.\n",
    "2. The OS sets up two areas of RAM called the run-time stack and the heap for use by the program.\n",
    "3. The OS starts the program executing by telling the CPU to start executing the first instruction of the computer.\n",
    "4. The program reads data from input sources. \n",
    "5. Each instruction of the program retrieves small pieces of data from RAM, acts on them, and writes new data back to RAM\n",
    "6. Once the data is processed the result is provided as output on the screen or some other output device."
   ]
  },
  {
   "cell_type": "markdown",
   "metadata": {},
   "source": [
    "    Storing a value in RAM or retrieving a value from RAM can take as\n",
    "    much time as several CPU operations."
   ]
  },
  {
   "cell_type": "markdown",
   "metadata": {},
   "source": [
    "* The RAM of a computer is like a collection of post office boxes. Each box has an address and can hold a value.\n",
    "* The RAM of a computer behaves like a group of people, each person representing a memory location within the RAM of the computer. Each person is assigned an address or name. To store a value in a location, you call out the name of the person and then tell them what value to remember. To retrieve a value, you call the name of the person and they tell you the value they were told to remember."
   ]
  },
  {
   "cell_type": "markdown",
   "metadata": {},
   "source": [
    "    It takes exactly the same amount of time to store a value in any location within the RAM. Likewise, retrieving a value takes the same amount of time whether it is in the first RAM location or the last."
   ]
  },
  {
   "cell_type": "markdown",
   "metadata": {},
   "source": [
    "## Accessing Elements in a Python List"
   ]
  },
  {
   "cell_type": "markdown",
   "metadata": {},
   "source": [
    "    A Python list is a collection of contiguous memory locations. \n",
    "* The word contiguous means that the memory locations of a list are grouped together consecutively in RAM. "
   ]
  },
  {
   "cell_type": "markdown",
   "metadata": {},
   "source": [
    "1. The size of a list does not affect the average access time in the list.\n",
    "2. The average access time at any location within a list is the same, regardless of its location within the list.\n"
   ]
  },
  {
   "cell_type": "code",
   "execution_count": 2,
   "metadata": {},
   "outputs": [],
   "source": [
    "import datetime\n",
    "import random\n",
    "import time"
   ]
  },
  {
   "cell_type": "code",
   "execution_count": 5,
   "metadata": {},
   "outputs": [],
   "source": [
    "def main():\n",
    "    # Write an XML file with the results\n",
    "    file = open(\"ListAccessTiming.xml\",\"w\")\n",
    "    \n",
    "    file.write('<?xml version=\"1.0\" encoding=\"UTF-8\" standalone=\"no\" ?>\\n')\n",
    "    \n",
    "    file.write('<Plot title=\"Average List Element Access Time\">\\n')\n",
    "    \n",
    "    # Test lists of size 1000 to 200000.\n",
    "    xmin = 1000\n",
    "    xmax = 200000\n",
    "    \n",
    "    # Record the list sizes in xList and the average access time within\n",
    "    # a list that size in yList for 1000 retrievals.\n",
    "    xList = []\n",
    "    yList = []\n",
    "    \n",
    "    for x in range(xmin, xmax+1, 1000):\n",
    "        \n",
    "        xList.append(x)\n",
    "        prod = 0\n",
    "\n",
    "        # Creates a list of size x with all 0’s\n",
    "        lst = [0] * x\n",
    "        \n",
    "        # let any garbage collection/memory allocation complete or at least\n",
    "        # settle down\n",
    "        time.sleep(1)\n",
    "        \n",
    "        # Time before the 1000 test retrievals\n",
    "        starttime = datetime.datetime.now()\n",
    "        \n",
    "        for v in range(1000):\n",
    "            # Find a random location within the list\n",
    "            # and retrieve a value. Do a dummy operation\n",
    "            # with that value to ensure it is really retrieved.\n",
    "            index = random.randint(0,x-1)\n",
    "            val = lst[index]\n",
    "            prod = prod * val\n",
    "        \n",
    "        # Time after the 1000 test retrievals\n",
    "        endtime = datetime.datetime.now()\n",
    "        \n",
    "        # The difference in time between start and end.\n",
    "        deltaT = endtime - starttime\n",
    "        \n",
    "        # Divide by 1000 for the average access time\n",
    "        # But also multiply by 1000000 for microseconds.\n",
    "        accessTime = deltaT.total_seconds() * 1000\n",
    "\n",
    "        yList.append(accessTime)\n",
    "\n",
    "    file.write(' <Axes>\\n')\n",
    "    file.write(' <XAxis min=\"'+str(xmin)+'\" max=\"'+str(xmax)+'\">List Size</XAxis>\\n')\n",
    "    file.write(' <YAxis min=\"'+str(min(yList))+'\" max=\"'+str(60)+'\">Microseconds</YAxis>\\n')\n",
    "    file.write(' </Axes>\\n')\n",
    "    \n",
    "    file.write(' <Sequence title=\"Average Access Time vs List Size\" color=\"red\">\\n')\n",
    "    \n",
    "    for i in range(len(xList)):\n",
    "        file.write(' <DataPoint x=\"'+str(xList[i])+'\" y=\"'+str(yList[i])+'\"/>\\n')\n",
    "    \n",
    "    file.write(' </Sequence>\\n')\n",
    "    \n",
    "    # This part of the program tests access at 100 random locations within a list\n",
    "    # of 200,000 elements to see that all the locations can be accessed in\n",
    "    # about the same amount of time.\n",
    "    xList = lst\n",
    "    yList = [0] * 200000\n",
    "    \n",
    "    time.sleep(2)\n",
    "    \n",
    "    for i in range(100):\n",
    "        starttime = datetime.datetime.now()\n",
    "        index = random.randint(0,200000-1)\n",
    "        xList[index] = xList[index] + 1\n",
    "        endtime = datetime.datetime.now()\n",
    "        deltaT = endtime - starttime\n",
    "        yList[index] = yList[index] + deltaT.total_seconds() * 1000000\n",
    "    \n",
    "    file.write(' <Sequence title=\"Access Time Distribution\" color=\"blue\">\\n')\n",
    "    \n",
    "    for i in range(len(xList)):\n",
    "        if xList[i] > 0:\n",
    "            file.write(' <DataPoint x=\"'+str(i)+'\" y=\"'+str(yList[i]/xList[i])+'\"/>\\n')\n",
    "    \n",
    "    file.write(' </Sequence>\\n')\n",
    "    file.write('</Plot>\\n')\n",
    "    file.close()"
   ]
  },
  {
   "cell_type": "code",
   "execution_count": 6,
   "metadata": {},
   "outputs": [],
   "source": [
    "if __name__ == \"__main__\":\n",
    "    main()"
   ]
  },
  {
   "cell_type": "markdown",
   "metadata": {},
   "source": [
    "    When running a program like this the times that you get will depend not only on the actual operations being performed, but the times will also depend on what other activity is occurring on the computer where the test is being run."
   ]
  },
  {
   "cell_type": "markdown",
   "metadata": {},
   "source": [
    "## Big-Oh Notation "
   ]
  },
  {
   "cell_type": "markdown",
   "metadata": {},
   "source": [
    "* our number one concern is how our programs will perform when we have large amounts of data.\n",
    "  * Let’s represent the size of the list by a variable called n\n",
    "  * the average access time for accessing an element of a list of size n be given by f(n)\n",
    "\n",
    "        O(g(n)) = { f | ∃d > 0, n0 ∈ Z+ ∋ 0 ≤ f(n) ≤ d g(n), ∀n ≥ n0}\n",
    "        \n",
    "       The class of functions designated by O( g(n)) consists of all functions f, where there exists a d greater than 0 and an n0 (a positive integer) such that 0 is less than or equal to f(n) is less than or equal to d times g(n) for all n greater than or equal to n0"
   ]
  },
  {
   "cell_type": "markdown",
   "metadata": {},
   "source": [
    "    The idea of an asymptotic bound means that for some small values of n the value of f(n) might be bigger than the value of d*g(n), but once n gets big enough (i.e. bigger than n0), then for all bigger n it will always be true that f(n) is less than d* g(n)."
   ]
  },
  {
   "cell_type": "markdown",
   "metadata": {},
   "source": [
    "## The PyList Append Operation\n"
   ]
  },
  {
   "cell_type": "markdown",
   "metadata": {},
   "source": [
    "### Inefficient Append"
   ]
  },
  {
   "cell_type": "code",
   "execution_count": 1,
   "metadata": {},
   "outputs": [],
   "source": [
    "class PyList:\n",
    "    def __init__(self):\n",
    "        self.items = []\n",
    "    \n",
    "    # The append method is used to add commands to the sequence.\n",
    "    def append(self,item):\n",
    "        self.items = self.items + [item]"
   ]
  },
  {
   "cell_type": "markdown",
   "metadata": {},
   "source": [
    "1. The item is made into a list by putting [ and ] around it. We should be careful about how we say this. The item itself is not changed. A new list is constructed from the item.\n",
    "2. The two lists are concatenated together using the + operator. The + operator is an accessor method that does not change either original list. The concatenation creates a new list from the elements in the two lists.\n",
    "3. The assignment of self.items to this new list updates the PyList object so it now refers to the new list.\n",
    "\n",
    "    When the nth element is appended to the sequence there will have to be n elements copied to form the new list. and n elements must be accessed to form the new list."
   ]
  },
  {
   "cell_type": "markdown",
   "metadata": {},
   "source": [
    "## A Proof by Induction"
   ]
  },
  {
   "cell_type": "markdown",
   "metadata": {},
   "source": [
    "if we want to calculate the amount of time it takes to append n elements to the PyList we would have to add up all the list accesses and multiply by the amount of time it takes to access a list element plus the time it takes to store a list element.\n",
    "* the number of access and store operations for copying the list the first time an element is appended.\n",
    "* When proving something using induction you are really constructing a meta-proof\n",
    "  * A meta-proof is a set of steps that you can repeat over and over again to find your desired result"
   ]
  },
  {
   "cell_type": "markdown",
   "metadata": {},
   "source": [
    "    The power of induction is that once we have constructed the meta-proof, we have proved that the result is true for all possible values of n."
   ]
  },
  {
   "cell_type": "markdown",
   "metadata": {},
   "source": [
    "## Making the PyList Append Efficient   "
   ]
  },
  {
   "cell_type": "markdown",
   "metadata": {},
   "source": [
    "If we take another look at our PyList append method we might be able to makeit more efficient if we didn’t have to access each element of the first list whenconcatenating the two lists."
   ]
  },
  {
   "cell_type": "markdown",
   "metadata": {},
   "source": [
    "### Efficient Append"
   ]
  },
  {
   "cell_type": "code",
   "execution_count": 1,
   "metadata": {},
   "outputs": [],
   "source": [
    "class PyList:\n",
    "    def __init__(self):\n",
    "        self.items = []\n",
    "    \n",
    "    # The append method is used to add commands to the sequence.\n",
    "    def append(self,item):\n",
    "        self.items.append(item)"
   ]
  },
  {
   "cell_type": "markdown",
   "metadata": {},
   "source": [
    "## Commonly Occurring Computational Complexities"
   ]
  },
  {
   "cell_type": "markdown",
   "metadata": {},
   "source": [
    "* The algorithms we will study in this text will be of one of the complexities of O(1), O(log n), O(n log n), O(n**2** ), or O(c**n**).\n",
    "* Computational complexity is only affected by the highest power term of the equation"
   ]
  },
  {
   "cell_type": "markdown",
   "metadata": {},
   "source": [
    "## More Asymptotic Notation"
   ]
  },
  {
   "cell_type": "markdown",
   "metadata": {},
   "source": [
    "We want to study how T(n) increases as n → ∞. The value of n is a Natural number representing possible sizes of input data."
   ]
  },
  {
   "cell_type": "markdown",
   "metadata": {},
   "source": [
    "### Big-Oh Asymptotic Upper Bound\n",
    "      O(g(n)) = { f | ∃d > 0, n0 ∈ Z+ ∋ 0 ≤ f(n) ≤ d g(n), ∀n ≥ n0}"
   ]
  },
  {
   "cell_type": "markdown",
   "metadata": {},
   "source": [
    "### Omega Asymptotic Lower Bound\n",
    "    Ω(g(n)) = { f (n) | ∃c > 0 and n0 > 0 ∋ 0 ≤ cg(n) ≤ f (n) ∀n ≥ n0}\n",
    "\n",
    "* The lower bound definition says for a while it might be greater, but eventually there is some n0 where T(n) dominates g(n) for all bigger values of n. In that case, we can write that the algorithm is Ω(g(n)).\n"
   ]
  },
  {
   "cell_type": "markdown",
   "metadata": {},
   "source": [
    "### Theta Asymptotic Tight Bound\n",
    "    Θ(g(n)) = { f (n) | ∃ c > 0, d > 0 and n0 > 0 ∋ 0 ≤ cg(n) ≤ f (n) ≤ dg(n) ∀n ≥ n0}\n",
    "* If we can find such a function g, then we can declare that (g(n))is an asymptotically tight bound for T(n), the observed behavior of an algorithm. "
   ]
  },
  {
   "cell_type": "markdown",
   "metadata": {},
   "source": [
    "## Amortized Complexity\n",
    "* Amortization is a term used by accountants when spreading the cost of some business transaction over a number of years rather than applying the whole expense to the books in one fiscal year. This same idea is employed in Computer Science when the cost of an operation is averaged.\n",
    "* The key idea behind all amortization methods is to get as tight an upper bound as we can for the worst case running time of any sequence of n operations on a data structure"
   ]
  },
  {
   "cell_type": "code",
   "execution_count": 7,
   "metadata": {},
   "outputs": [
    {
     "name": "stdout",
     "output_type": "stream",
     "text": [
      "[0, 1, 2, 3, 4, 5, 6, 7, 8, 9, 10, 11, 12, 13, 14, 15, 16, 17, 18, 19, 20, 21, 22, 23, 24, 25, 26, 27, 28, 29, 30, 31, 32, 33, 34, 35, 36, 37, 38, 39, 40, 41, 42, 43, 44, 45, 46, 47, 48, 49, 50, 51, 52, 53, 54, 55, 56, 57, 58, 59, 60, 61, 62, 63, 64, 65, 66, 67, 68, 69, 70, 71, 72, 73, 74, 75, 76, 77, 78, 79, 80, 81, 82, 83, 84, 85, 86, 87, 88, 89, 90, 91, 92, 93, 94, 95, 96, 97, 98, 99, None, None, None, None, None, None, None, None, None, None, None, None, None, None, None, None, None, None, None, None, None, None, None, None, None, None, None, None]\n",
      "100\n",
      "128\n"
     ]
    }
   ],
   "source": [
    "class PyList:\n",
    "    \n",
    "    # The size below is an initial number of locations for the list \n",
    "    # object. The numItems instance variable keeps track of how \n",
    "    # many elements are currently stored in the list since self.\n",
    "    # items may have empty locations at the end.\n",
    "    def __init__(self,size=1):\n",
    "        self.items = [None] * size\n",
    "        self.numItems = 0\n",
    "    \n",
    "    def append(self,item):\n",
    "        if (self.numItems == len(self.items)):\n",
    "            # We must make the list bigger by allocating a new \n",
    "            # list and copying all the elements over to the new list.\n",
    "            newlst = [None] * self.numItems * 2\n",
    "            for k in range(len(self.items)):\n",
    "                newlst[k] = self.items[k]\n",
    "\n",
    "            self.items = newlst\n",
    "\n",
    "        self.items[self.numItems] = item\n",
    "        self.numItems += 1\n",
    "\n",
    "def main():\n",
    "    p = PyList()\n",
    "    \n",
    "    for k in range(100):\n",
    "        p.append(k)\n",
    "    \n",
    "    print(p.items)\n",
    "    print(p.numItems)\n",
    "    print(len(p.items))\n",
    "\n",
    "if __name__ == \"__main__\":\n",
    "    main()"
   ]
  }
 ],
 "metadata": {
  "kernelspec": {
   "display_name": "Python 3",
   "language": "python",
   "name": "python3"
  },
  "language_info": {
   "codemirror_mode": {
    "name": "ipython",
    "version": 3
   },
   "file_extension": ".py",
   "mimetype": "text/x-python",
   "name": "python",
   "nbconvert_exporter": "python",
   "pygments_lexer": "ipython3",
   "version": "3.7.3"
  }
 },
 "nbformat": 4,
 "nbformat_minor": 2
}
