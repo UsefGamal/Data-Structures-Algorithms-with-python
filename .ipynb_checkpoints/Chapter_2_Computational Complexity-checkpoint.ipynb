{
 "cells": [
  {
   "cell_type": "markdown",
   "metadata": {},
   "source": [
    "## Computer Architecture"
   ]
  },
  {
   "cell_type": "markdown",
   "metadata": {},
   "source": [
    "A computer consists of a Central Processing Unit (i.e. the CPU) that interacts with\n",
    "Input/Output (i.e.I/O) devices like a keyboard, mouse, display, and network interface"
   ]
  },
  {
   "cell_type": "markdown",
   "metadata": {},
   "source": [
    "When you run a program it is first read from a storage device like a hard drive into the\n",
    "RAM of the computer. RAM loses its contents when\n",
    "the power is shut off, so copies of programs are only stored in RAM while they are\n",
    "running."
   ]
  },
  {
   "cell_type": "markdown",
   "metadata": {},
   "source": [
    "The RAM of a computer holds a program as it is executing and also holds data that\n",
    "the program is manipulating."
   ]
  },
  {
   "cell_type": "markdown",
   "metadata": {},
   "source": [
    "The CPU reads input from\n",
    "the input devices and stores data values in the RAM. The CPU also contains a very\n",
    "limited amount of memory, usually called registers. "
   ]
  },
  {
   "cell_type": "markdown",
   "metadata": {},
   "source": [
    "When an operation is performed\n",
    "by the CPU, such as adding two numbers together, the operands must be in registers in\n",
    "the CPU"
   ]
  },
  {
   "cell_type": "markdown",
   "metadata": {},
   "source": [
    "Typical operations that are performed by the CPU are addition, subtraction,\n",
    "multiplication, division, and storing and retrieving values from the RAM.\n"
   ]
  },
  {
   "cell_type": "markdown",
   "metadata": {},
   "source": [
    "### Running a Program"
   ]
  },
  {
   "cell_type": "markdown",
   "metadata": {},
   "source": [
    "1. The program is read from the storage device into RAM.\n",
    "2. The OS sets up two areas of RAM called the run-time stack and the heap for use by the program.\n",
    "3. The OS starts the program executing by telling the CPU to start executing the first instruction of the computer.\n",
    "4. The program reads data from input sources. \n",
    "5. Each instruction of the program retrieves small pieces of data from RAM, acts on them, and writes new data back to RAM\n",
    "6. Once the data is processed the result is provided as output on the screen or some other output device."
   ]
  },
  {
   "cell_type": "markdown",
   "metadata": {},
   "source": [
    "    Storing a value in RAM or retrieving a value from RAM can take as\n",
    "    much time as several CPU operations."
   ]
  },
  {
   "cell_type": "markdown",
   "metadata": {},
   "source": [
    "* The RAM of a computer is like a collection of post office boxes. Each box has an address and can hold a value.\n",
    "* The RAM of a computer behaves like a group of people, each person representing a memory location within the RAM of the computer. Each person is assigned an address or name. To store a value in a location, you call out the name of the person and then tell them what value to remember. To retrieve a value, you call the name of the person and they tell you the value they were told to remember."
   ]
  },
  {
   "cell_type": "markdown",
   "metadata": {},
   "source": [
    "    It takes exactly the same amount of time to store a value in any location within the RAM. Likewise, retrieving a value takes the same amount of time whether it is in the first RAM location or the last."
   ]
  },
  {
   "cell_type": "markdown",
   "metadata": {},
   "source": [
    "## Accessing Elements in a Python List"
   ]
  },
  {
   "cell_type": "markdown",
   "metadata": {},
   "source": [
    "    A Python list is a collection of contiguous memory locations. \n",
    "* The word contiguous means that the memory locations of a list are grouped together consecutively in RAM. "
   ]
  },
  {
   "cell_type": "markdown",
   "metadata": {},
   "source": [
    "1. The size of a list does not affect the average access time in the list.\n",
    "2. The average access time at any location within a list is the same, regardless of its location within the list.\n"
   ]
  },
  {
   "cell_type": "code",
   "execution_count": 2,
   "metadata": {},
   "outputs": [],
   "source": [
    "import datetime\n",
    "import random\n",
    "import time"
   ]
  },
  {
   "cell_type": "code",
   "execution_count": 5,
   "metadata": {},
   "outputs": [],
   "source": [
    "def main():\n",
    "    # Write an XML file with the results\n",
    "    file = open(\"ListAccessTiming.xml\",\"w\")\n",
    "    \n",
    "    file.write('<?xml version=\"1.0\" encoding=\"UTF-8\" standalone=\"no\" ?>\\n')\n",
    "    \n",
    "    file.write('<Plot title=\"Average List Element Access Time\">\\n')\n",
    "    \n",
    "    # Test lists of size 1000 to 200000.\n",
    "    xmin = 1000\n",
    "    xmax = 200000\n",
    "    \n",
    "    # Record the list sizes in xList and the average access time within\n",
    "    # a list that size in yList for 1000 retrievals.\n",
    "    xList = []\n",
    "    yList = []\n",
    "    \n",
    "    for x in range(xmin, xmax+1, 1000):\n",
    "        \n",
    "        xList.append(x)\n",
    "        prod = 0\n",
    "\n",
    "        # Creates a list of size x with all 0’s\n",
    "        lst = [0] * x\n",
    "        \n",
    "        # let any garbage collection/memory allocation complete or at least\n",
    "        # settle down\n",
    "        time.sleep(1)\n",
    "        \n",
    "        # Time before the 1000 test retrievals\n",
    "        starttime = datetime.datetime.now()\n",
    "        \n",
    "        for v in range(1000):\n",
    "            # Find a random location within the list\n",
    "            # and retrieve a value. Do a dummy operation\n",
    "            # with that value to ensure it is really retrieved.\n",
    "            index = random.randint(0,x-1)\n",
    "            val = lst[index]\n",
    "            prod = prod * val\n",
    "        \n",
    "        # Time after the 1000 test retrievals\n",
    "        endtime = datetime.datetime.now()\n",
    "        \n",
    "        # The difference in time between start and end.\n",
    "        deltaT = endtime - starttime\n",
    "        \n",
    "        # Divide by 1000 for the average access time\n",
    "        # But also multiply by 1000000 for microseconds.\n",
    "        accessTime = deltaT.total_seconds() * 1000\n",
    "\n",
    "        yList.append(accessTime)\n",
    "\n",
    "    file.write(' <Axes>\\n')\n",
    "    file.write(' <XAxis min=\"'+str(xmin)+'\" max=\"'+str(xmax)+'\">List Size</XAxis>\\n')\n",
    "    file.write(' <YAxis min=\"'+str(min(yList))+'\" max=\"'+str(60)+'\">Microseconds</YAxis>\\n')\n",
    "    file.write(' </Axes>\\n')\n",
    "    \n",
    "    file.write(' <Sequence title=\"Average Access Time vs List Size\" color=\"red\">\\n')\n",
    "    \n",
    "    for i in range(len(xList)):\n",
    "        file.write(' <DataPoint x=\"'+str(xList[i])+'\" y=\"'+str(yList[i])+'\"/>\\n')\n",
    "    \n",
    "    file.write(' </Sequence>\\n')\n",
    "    \n",
    "    # This part of the program tests access at 100 random locations within a list\n",
    "    # of 200,000 elements to see that all the locations can be accessed in\n",
    "    # about the same amount of time.\n",
    "    xList = lst\n",
    "    yList = [0] * 200000\n",
    "    \n",
    "    time.sleep(2)\n",
    "    \n",
    "    for i in range(100):\n",
    "        starttime = datetime.datetime.now()\n",
    "        index = random.randint(0,200000-1)\n",
    "        xList[index] = xList[index] + 1\n",
    "        endtime = datetime.datetime.now()\n",
    "        deltaT = endtime - starttime\n",
    "        yList[index] = yList[index] + deltaT.total_seconds() * 1000000\n",
    "    \n",
    "    file.write(' <Sequence title=\"Access Time Distribution\" color=\"blue\">\\n')\n",
    "    \n",
    "    for i in range(len(xList)):\n",
    "        if xList[i] > 0:\n",
    "            file.write(' <DataPoint x=\"'+str(i)+'\" y=\"'+str(yList[i]/xList[i])+'\"/>\\n')\n",
    "    \n",
    "    file.write(' </Sequence>\\n')\n",
    "    file.write('</Plot>\\n')\n",
    "    file.close()"
   ]
  },
  {
   "cell_type": "code",
   "execution_count": 6,
   "metadata": {},
   "outputs": [],
   "source": [
    "if __name__ == \"__main__\":\n",
    "    main()"
   ]
  },
  {
   "cell_type": "markdown",
   "metadata": {},
   "source": [
    "    When running a program like this the times that you get will depend not only\n",
    "    on the actual operations being performed, but the times will also depend on what\n",
    "    other activity is occurring on the computer where the test is being run."
   ]
  },
  {
   "cell_type": "markdown",
   "metadata": {},
   "source": [
    "## Big-Oh Notation"
   ]
  },
  {
   "cell_type": "code",
   "execution_count": 7,
   "metadata": {},
   "outputs": [],
   "source": []
  },
  {
   "cell_type": "code",
   "execution_count": null,
   "metadata": {},
   "outputs": [],
   "source": []
  }
 ],
 "metadata": {
  "kernelspec": {
   "display_name": "Python 3",
   "language": "python",
   "name": "python3"
  },
  "language_info": {
   "codemirror_mode": {
    "name": "ipython",
    "version": 3
   },
   "file_extension": ".py",
   "mimetype": "text/x-python",
   "name": "python",
   "nbconvert_exporter": "python",
   "pygments_lexer": "ipython3",
   "version": "3.7.3"
  }
 },
 "nbformat": 4,
 "nbformat_minor": 2
}
