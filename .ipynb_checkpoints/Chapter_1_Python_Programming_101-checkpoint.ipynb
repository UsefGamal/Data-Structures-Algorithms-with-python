{
 "cells": [
  {
   "cell_type": "markdown",
   "metadata": {},
   "source": [
    "## Creating Objects"
   ]
  },
  {
   "cell_type": "markdown",
   "metadata": {},
   "source": [
    "### Literal Values "
   ]
  },
  {
   "cell_type": "code",
   "execution_count": 1,
   "metadata": {},
   "outputs": [],
   "source": [
    "x=6 "
   ]
  },
  {
   "cell_type": "markdown",
   "metadata": {},
   "source": [
    "This creates anintobject containing the value 6. It also points the reference calledxat this object"
   ]
  },
  {
   "cell_type": "markdown",
   "metadata": {},
   "source": [
    "### Non-literal Object Creation"
   ]
  },
  {
   "cell_type": "markdown",
   "metadata": {},
   "source": [
    "For instance, if we have a string in Python, like ‘6’ and want tocreate anintobject from that string, we can do the following."
   ]
  },
  {
   "cell_type": "code",
   "execution_count": 2,
   "metadata": {},
   "outputs": [
    {
     "name": "stdout",
     "output_type": "stream",
     "text": [
      "6\n"
     ]
    }
   ],
   "source": [
    "y = '6'\n",
    "x = int(y)\n",
    "print(x)"
   ]
  },
  {
   "cell_type": "markdown",
   "metadata": {},
   "source": [
    " y is a reference to the str object created from the string literal. The variable x is a reference to an object that is created by using the object that y refers to."
   ]
  },
  {
   "cell_type": "code",
   "execution_count": 3,
   "metadata": {},
   "outputs": [],
   "source": [
    "z = float('6.3')\n",
    "w = str(z)\n",
    "u = list(w) #this results in the list[’6’,’.’,’3’]"
   ]
  },
  {
   "cell_type": "code",
   "execution_count": 4,
   "metadata": {},
   "outputs": [
    {
     "data": {
      "text/plain": [
       "6.3"
      ]
     },
     "execution_count": 4,
     "metadata": {},
     "output_type": "execute_result"
    }
   ],
   "source": [
    "z"
   ]
  },
  {
   "cell_type": "code",
   "execution_count": 5,
   "metadata": {},
   "outputs": [
    {
     "data": {
      "text/plain": [
       "'6.3'"
      ]
     },
     "execution_count": 5,
     "metadata": {},
     "output_type": "execute_result"
    }
   ],
   "source": [
    "w"
   ]
  },
  {
   "cell_type": "code",
   "execution_count": 6,
   "metadata": {},
   "outputs": [
    {
     "data": {
      "text/plain": [
       "['6', '.', '3']"
      ]
     },
     "execution_count": 6,
     "metadata": {},
     "output_type": "execute_result"
    }
   ],
   "source": [
    "u"
   ]
  },
  {
   "cell_type": "markdown",
   "metadata": {},
   "source": [
    "## Calling Methods on Objects"
   ]
  },
  {
   "cell_type": "markdown",
   "metadata": {},
   "source": [
    "There are two kinds of methods in any object-oriented language: mutator and accessor methods."
   ]
  },
  {
   "cell_type": "markdown",
   "metadata": {},
   "source": [
    "### Accessor"
   ]
  },
  {
   "cell_type": "markdown",
   "metadata": {},
   "source": [
    "Accessor methods access the current state of an object but don’t change the object.Accessor methods return new object references when called."
   ]
  },
  {
   "cell_type": "code",
   "execution_count": 7,
   "metadata": {},
   "outputs": [
    {
     "name": "stdout",
     "output_type": "stream",
     "text": [
      "HOW ARE YOU\n"
     ]
    }
   ],
   "source": [
    "x = 'how are you'\n",
    "y = x.upper()\n",
    "print(y)"
   ]
  },
  {
   "cell_type": "markdown",
   "metadata": {},
   "source": [
    "### Mutator"
   ]
  },
  {
   "cell_type": "markdown",
   "metadata": {},
   "source": [
    "Some methods are mutator methods. These methods actually change the existingobject. "
   ]
  },
  {
   "cell_type": "code",
   "execution_count": 8,
   "metadata": {},
   "outputs": [
    {
     "name": "stdout",
     "output_type": "stream",
     "text": [
      "[3, 2, 1]\n"
     ]
    }
   ],
   "source": [
    "myList = [1, 2, 3]\n",
    "myList.reverse()\n",
    "print(myList) #This prints [3,2,1] to the screen"
   ]
  },
  {
   "cell_type": "markdown",
   "metadata": {},
   "source": [
    "### immutable Class"
   ]
  },
  {
   "cell_type": "markdown",
   "metadata": {},
   "source": [
    "We use accessor methods to retrieve a value that is storedin an object or to retrieve a value that depends on the value stored in an object.\n",
    "if a class had no accessor methods we could put values in the object but we couldnever retrieve them."
   ]
  },
  {
   "cell_type": "markdown",
   "metadata": {},
   "source": [
    "When a class does not contain any mutator methods, we say that the class is immutable."
   ]
  },
  {
   "cell_type": "markdown",
   "metadata": {},
   "source": [
    "We can form new values from the data in animmutableclass, butonce an immutable object is created, it cannot be changed"
   ]
  },
  {
   "cell_type": "markdown",
   "metadata": {},
   "source": [
    "## Implementing a Class"
   ]
  },
  {
   "cell_type": "markdown",
   "metadata": {},
   "source": [
    "OOP usually means implementing classes that describe objects which hold information that is needed by the program you are writing. "
   ]
  },
  {
   "cell_type": "code",
   "execution_count": 9,
   "metadata": {},
   "outputs": [],
   "source": [
    "#boyDog = Dog(\"Mesa\", 5, 15, 2004, \"WOOOF\")\n",
    "#girlDog = Dog(\"Sequoia\", 5, 6, 2004, \"barkbark\")\n",
    "#print(boyDog.speak())\n",
    "#print(girlDog.speak())\n",
    "#print(boyDog.birthDate())\n",
    "#print(girlDog.birthDate())\n",
    "#boyDog.changeBark(\"woofywoofy\")\n",
    "#print(boyDog.speak()"
   ]
  },
  {
   "cell_type": "markdown",
   "metadata": {},
   "source": [
    "The special variable self always points at the current object and must be the first parameter to each method in the class."
   ]
  },
  {
   "cell_type": "markdown",
   "metadata": {},
   "source": [
    "Python takes care of passing the self argument to the methods. The other arguments are passed by the programmer when the method is called"
   ]
  },
  {
   "cell_type": "code",
   "execution_count": 10,
   "metadata": {},
   "outputs": [],
   "source": [
    "class Dog:\n",
    "    \n",
    "    #This is the constructor for the class.It is called whenever a Dog\n",
    "    #object is created. The refeence called \"self\" is created by Python\n",
    "    #and made to point to the space for the newly created object. Python\n",
    "    #does this automatically for us but we have to have \"self\" as \n",
    "    #the first parameter to the __init__method(i.e.theconstructor).\n",
    "    \n",
    "    def __init__(self, name, month, day, year, speakText):\n",
    "        self.name = name\n",
    "        self.month = month\n",
    "        self.day = day\n",
    "        self.year = year1\n",
    "        self.speakText = speakText\n",
    "        \n",
    "    #This is an accessor method that returns the speak Text stored in the\n",
    "    #object. Notice that \"self\" is a parameter. Every method has \"self\" \n",
    "    #as its first parameter. The \"self\" parameter is a reference to \n",
    "    #the current object. The current object appears on the left handside\n",
    "    #of the dot(i.e. the.) when the method is called.\n",
    "    \n",
    "    def speak(self):\n",
    "        return self.speakText\n",
    "    \n",
    "    #Here is an accessor method to get the name\n",
    "    \n",
    "    def getName(self):\n",
    "        return self.name\n",
    "    \n",
    "    #This is another accessor method that uses the birthday information to\n",
    "    #return a string representing the date.\n",
    "    \n",
    "    def birthDate(self):\n",
    "        return str(self.month) + \"/\" + str(self.day) + \"/\" + str(self.year)\n",
    "    \n",
    "    #This is a mutator method that changes the speakText of the Dogobject.\n",
    "    def changeBark(self,bark):\n",
    "        self.speakText = bark"
   ]
  },
  {
   "cell_type": "markdown",
   "metadata": {},
   "source": [
    "## Operator Overloading"
   ]
  },
  {
   "cell_type": "markdown",
   "metadata": {},
   "source": [
    "The methods that begin and end with two underscores are methodsthat Python associates with a corresponding operator"
   ]
  },
  {
   "cell_type": "markdown",
   "metadata": {},
   "source": [
    "If you define a method for your class with a name that is operator overloaded, your class will support that operator as well. "
   ]
  },
  {
   "cell_type": "code",
   "execution_count": 11,
   "metadata": {},
   "outputs": [
    {
     "name": "stdout",
     "output_type": "stream",
     "text": [
      "WOOOOF\n",
      "barkbark\n",
      "5/15/2004\n",
      "5/6/2004\n",
      "woofywoofy\n",
      "woofywoofybarkbark\n",
      "Puppy of Mesa and Sequoia\n",
      "5/15/2005\n"
     ]
    }
   ],
   "source": [
    "class Dog:\n",
    "    \n",
    "    #This is the constructor for the class.It is called whenever a Dog\n",
    "    #object is created. The refeence called \"self\" is created by Python\n",
    "    #and made to point to the space for the newly created object. Python\n",
    "    #does this automatically for us but we have to have \"self\" as \n",
    "    #the first parameter to the __init__method(i.e.theconstructor).\n",
    "    \n",
    "    def __init__(self, name, month, day, year, speakText):\n",
    "        self.name = name\n",
    "        self.month = month\n",
    "        self.day = day\n",
    "        self.year = year\n",
    "        self.speakText = speakText\n",
    "        \n",
    "    #This is an accessor method that returns the speak Text stored in the\n",
    "    #object. Notice that \"self\" is a parameter. Every method has \"self\" \n",
    "    #as its first parameter. The \"self\" parameter is a reference to \n",
    "    #the current object. The current object appears on the left handside\n",
    "    #of the dot(i.e. the.) when the method is called.\n",
    "    \n",
    "    def speak(self):\n",
    "        return self.speakText\n",
    "    \n",
    "    #Here is an accessor method to get the name\n",
    "    \n",
    "    def getName(self):\n",
    "        return self.name\n",
    "    \n",
    "    #This is another accessor method that uses the birthday information to\n",
    "    #return a string representing the date.\n",
    "    \n",
    "    def birthDate(self):\n",
    "        return str(self.month) + \"/\" + str(self.day) + \"/\" + str(self.year)\n",
    "    \n",
    "    #This is a mutator method that changes the speakText of the Dogobject.\n",
    "    def changeBark(self,bark):\n",
    "        self.speakText = bark\n",
    "    \n",
    "    #When creating the new puppy we don’t know it’s birthday. Pick the \n",
    "    #first dog’s birth day plus one year. The speakText will be the\n",
    "    #concatenation of both dog’s text. The dog on the left side of the +\n",
    "    #operator is the object referenced by the \"self\" parameter. The\n",
    "    #\"otherDog\" parameter is the dog on the right side of the + operator.\n",
    "    def __add__(self,otherDog):\n",
    "        return Dog(\"Puppy of \" + self.name + \" and \" + otherDog.name,\n",
    "               self.month, self.day, self.year + 1, \n",
    "               self.speakText + otherDog.speakText)\n",
    "def main():\n",
    "    boyDog = Dog(\"Mesa\", 5, 15, 2004, \"WOOOOF\")\n",
    "    girlDog = Dog(\"Sequoia\", 5, 6, 2004, \"barkbark\")\n",
    "    print(boyDog.speak())\n",
    "    print(girlDog.speak())\n",
    "    print(boyDog.birthDate())\n",
    "    print(girlDog.birthDate())\n",
    "    boyDog.changeBark(\"woofywoofy\")\n",
    "    print(boyDog.speak())\n",
    "    puppy = boyDog + girlDog\n",
    "    print(puppy.speak())\n",
    "    print(puppy.getName())\n",
    "    print(puppy.birthDate())\n",
    "\n",
    "    \n",
    "main()"
   ]
  },
  {
   "cell_type": "markdown",
   "metadata": {},
   "source": [
    "## Magic Methods"
   ]
  },
  {
   "cell_type": "markdown",
   "metadata": {},
   "source": [
    "they are called like this because a method automatically gets called when an operator is used in anexpression."
   ]
  },
  {
   "cell_type": "code",
   "execution_count": 12,
   "metadata": {},
   "outputs": [],
   "source": [
    "# __add__(self,y) ==>  x+y\n",
    "# __contains__(self,y) ==>  y in x\n",
    "# __eq__(self,y) ==>  x==y\n",
    "# __ge__(self,y) ==>  x>=y\n",
    "# __getitem__(self,y) ==>  x[y]\n",
    "# __gt__(self,y) ==>  x>y\n",
    "# __hash__(self) ==>  hash(x)\n",
    "# __int__(self) ==>  int(x)\n",
    "# __iter__(self) ==>  for v in x\n",
    "# __le__(self,y) ==>   x<=y\n",
    "# __len__(self) ==>  len(x)"
   ]
  },
  {
   "cell_type": "markdown",
   "metadata": {},
   "source": [
    "#### repr(x) & str(x)"
   ]
  },
  {
   "cell_type": "markdown",
   "metadata": {},
   "source": [
    "Both operators return a string representation of x. The difference is that the str operator should return a string that is suitable for human interaction while the repr operator is called when a string representation is needed that can be evaluated"
   ]
  },
  {
   "cell_type": "markdown",
   "metadata": {},
   "source": [
    "The repr operator, when called, will treat the string as an expression that could later be evaluated by the eval function in Python whereas the str operator simply returns a string for an object."
   ]
  },
  {
   "cell_type": "markdown",
   "metadata": {},
   "source": [
    "## Importing Modules"
   ]
  },
  {
   "cell_type": "markdown",
   "metadata": {},
   "source": [
    "There are two ways to import a module in Python: the convenient way and the safe way."
   ]
  },
  {
   "cell_type": "markdown",
   "metadata": {},
   "source": [
    "### The convenient way"
   ]
  },
  {
   "cell_type": "markdown",
   "metadata": {},
   "source": [
    "The convenient way to import the turtle module would be to write the following. this is convenient because whenever you want to use the Turtle class, you can just write Turtle which is convenient, but not completely safe because you then have to make sure you never use the identifier Turtle for anything else in your code."
   ]
  },
  {
   "cell_type": "code",
   "execution_count": 13,
   "metadata": {},
   "outputs": [],
   "source": [
    "from turtle import * "
   ]
  },
  {
   "cell_type": "code",
   "execution_count": 14,
   "metadata": {},
   "outputs": [],
   "source": [
    "t = Turtle()"
   ]
  },
  {
   "cell_type": "markdown",
   "metadata": {},
   "source": [
    "### The Safe Way "
   ]
  },
  {
   "cell_type": "markdown",
   "metadata": {},
   "source": [
    "The safe way to import the turtle module would be as follows.it is safe because the namespace of your module and the turtle module are kept separate. All identifiers in the turtle module are in the turtle namespace, while the local identifiers are in the local namespace."
   ]
  },
  {
   "cell_type": "code",
   "execution_count": 15,
   "metadata": {},
   "outputs": [],
   "source": [
    "import turtle "
   ]
  },
  {
   "cell_type": "code",
   "execution_count": 16,
   "metadata": {},
   "outputs": [],
   "source": [
    "t = turtle.Turtle()"
   ]
  },
  {
   "cell_type": "markdown",
   "metadata": {},
   "source": [
    "## indentation in Python Programs"
   ]
  },
  {
   "cell_type": "markdown",
   "metadata": {},
   "source": [
    "An indented line belongs to the line it is indented under. The body of a function is indented under its function definition line. The then part of an if statement is indented under the if.A while loop’s body is indented under it. The methods of a class are all indented under the class definition line. "
   ]
  },
  {
   "cell_type": "markdown",
   "metadata": {},
   "source": [
    "### Block"
   ]
  },
  {
   "cell_type": "markdown",
   "metadata": {},
   "source": [
    "All statements that are indented the same amount and grouped together are called a block. It is important that all statements within ablock are indented exactly the same amount"
   ]
  },
  {
   "cell_type": "markdown",
   "metadata": {},
   "source": [
    "## The Main Function"
   ]
  },
  {
   "cell_type": "markdown",
   "metadata": {},
   "source": [
    "One function definition is written by convention in Python, usually called the main function.it contains code the program typically executes when it is first started."
   ]
  },
  {
   "cell_type": "code",
   "execution_count": 17,
   "metadata": {},
   "outputs": [],
   "source": [
    "#Imports at the top. \n",
    "import turtle"
   ]
  },
  {
   "cell_type": "code",
   "execution_count": 18,
   "metadata": {},
   "outputs": [],
   "source": [
    "#other function definitions followed by the main function definition\n",
    "def main():\n",
    "    \n",
    "    #The main code of the program goes here\n",
    "    t = turtle.Turtle()\n",
    "    \n",
    "#this code calls the main function to get everything started. The condition in this \n",
    "#if statement evaluates to True when the module is executed by the interpreter, but\n",
    "#not when it is imported into another module.\n",
    "main()"
   ]
  },
  {
   "cell_type": "markdown",
   "metadata": {},
   "source": [
    "## Reading from a File"
   ]
  },
  {
   "cell_type": "code",
   "execution_count": 19,
   "metadata": {},
   "outputs": [],
   "source": [
    "# This imports the turtle graphics module.\n",
    "import turtle"
   ]
  },
  {
   "cell_type": "code",
   "execution_count": 20,
   "metadata": {},
   "outputs": [
    {
     "name": "stdout",
     "output_type": "stream",
     "text": [
      "Please enter drawing filename: file.txt\n",
      "Unknown command found in file: endfil\n",
      "Program Execution Completed.\n"
     ]
    }
   ],
   "source": [
    "# The main function is where the main code of the program is written.\n",
    "def main():\n",
    "\n",
    "    # This line reads a line of input from the user.\n",
    "    filename = input(\"Please enter drawing filename: \")\n",
    "    \n",
    "    # Create a Turtle Graphics window to draw in.\n",
    "    t = turtle.Turtle()\n",
    "    \n",
    "    # The screen is used at the end of the program.\n",
    "    screen = t.getscreen()\n",
    "    \n",
    "    # The next line opens the file for \"r\" or reading. \"w\" would open it for\n",
    "    # writing, and \"a\" would open the file to append to it (i.e. add to the\n",
    "    # end). In this program we are only interested in reading the file.\n",
    "    file = open(filename, \"r\")\n",
    "    \n",
    "    # The following for loop reads the lines of the file, one at a time\n",
    "    # and executes the body of the loop once for each line of the file.\n",
    "    for line in file:\n",
    "    \n",
    "        # The strip method strips off the newline character at the end of the line\n",
    "        # and any blanks that might be at the beginning or end of the line.\n",
    "        text = line.strip()\n",
    "        \n",
    "        # The following line splits the text variable into its pieces.\n",
    "        # For instance, if text contained \"goto, 10, 20, 1, black\" then\n",
    "        # commandList will be equal to [\"goto\", \"10\", \"20\", \"1\", \"black\"] after\n",
    "        # splitting text.\n",
    "        commandList = text.split(\",\")\n",
    "        \n",
    "        # get the drawing command\n",
    "        command = commandList[0]\n",
    "        \n",
    "        if command == \"goto\":\n",
    "            \n",
    "            # Writing float(commandList[1]) makes a float object out of the\n",
    "            # string found in commandList[1]. You can do similar conversion\n",
    "            # between types for int objects.\n",
    "            x = float(commandList[1])\n",
    "            y = float(commandList[2])\n",
    "            width = float(commandList[3])\n",
    "            color = commandList[4].strip()\n",
    "            t.width(width)\n",
    "            t.pencolor(color)\n",
    "            t.goto(x,y)\n",
    "\n",
    "        elif command == \"circle\":\n",
    "            radius = float(commandList[1])\n",
    "            width = float(commandList[2])\n",
    "            color = commandList[3].strip()\n",
    "            t.width(width)\n",
    "            t.pencolor(color)\n",
    "            t.circle(radius)\n",
    "\n",
    "        elif command == \"beginfill\":\n",
    "            color = commandList[1].strip()\n",
    "            t.fillcolor(color)\n",
    "            t.begin_fill()\n",
    "\n",
    "        elif command == \"endfill\":\n",
    "            t.end_fill()\n",
    "\n",
    "        elif command == \"penup\":\n",
    "            t.penup()\n",
    "\n",
    "        elif command == \"pendown\":\n",
    "            t.pendown()\n",
    "\n",
    "        else:\n",
    "            print(\"Unknown command found in file:\",command)\n",
    "\n",
    "    #close the file\n",
    "    file.close()\n",
    "    \n",
    "    #hide the turtle that we used to draw the picture.\n",
    "    t.ht()\n",
    "    \n",
    "    # This causes the program to hold the turtle graphics window open\n",
    "    # until the mouse is clicked.\n",
    "    screen.exitonclick()\n",
    "    \n",
    "    print(\"Program Execution Completed.\")\n",
    "    \n",
    "# This code calls the main function to get everything started.\n",
    "main()"
   ]
  },
  {
   "cell_type": "markdown",
   "metadata": {},
   "source": [
    "### Pattern for Reading Single Line Records from a File"
   ]
  },
  {
   "cell_type": "code",
   "execution_count": 21,
   "metadata": {},
   "outputs": [
    {
     "name": "stdout",
     "output_type": "stream",
     "text": [
      "Please enter filename: file.txt\n",
      "beginfill, black\n",
      "\n",
      "circle, 20, 1, black\n",
      "\n",
      "endfill\n",
      "\n",
      "penup\n",
      "\n",
      "goto, 120, 0, 1, black\n",
      "\n",
      "pendown\n",
      "\n",
      "beginfill, black\n",
      "\n",
      "circle, 20, 1, black\n",
      "\n",
      "endfill\n",
      "\n",
      "penup\n",
      "\n",
      "goto, 150, 40, 1, black\n",
      "\n",
      "pendown\n",
      "\n",
      "beginfill, yellow\n",
      "\n",
      "goto, -30, 40, 1, black\n",
      "\n",
      "goto, -30, 70, 1, black\n",
      "\n",
      "goto, 60, 70, 1, black\n",
      "\n",
      "goto, 60, 100, 1, black\n",
      "\n",
      "goto, 90, 100, 1, black\n",
      "\n",
      "goto, 115, 70, 1, black\n",
      "\n",
      "goto, 150, 70, 1, black\n",
      "\n",
      "goto, 150, 40, 1, black\n",
      "\n",
      "endfil\n"
     ]
    }
   ],
   "source": [
    "# This line reads a line of input from the user.\n",
    "filename = input(\"Please enter filename: \")\n",
    "\n",
    "# First the file must be opened.\n",
    "file = open(filename,\"r\")\n",
    "\n",
    "# The body of the for loop is executed once for each line in the file.\n",
    "for line in file:\n",
    "    # Process each record of the file. Each record must be exactly one line of the\n",
    "    # input file. What processing a record means will be determined by the\n",
    "        # program you are writing.\n",
    "    print(line)\n",
    "\n",
    "# Closing the file is always a good idea, but it will be closed when your program\n",
    "# terminates if you do not close it explicitly.\n",
    "file.close()"
   ]
  },
  {
   "cell_type": "markdown",
   "metadata": {},
   "source": [
    "## Reading Multi-line Records from a File"
   ]
  },
  {
   "cell_type": "markdown",
   "metadata": {},
   "source": [
    "### Loop and a Half Pattern."
   ]
  },
  {
   "cell_type": "markdown",
   "metadata": {},
   "source": [
    "Records of a file may cross multiple\n",
    "lines. In that case, you can’t use a for loop to read the file. You need a while loop\n",
    "instead. "
   ]
  },
  {
   "cell_type": "markdown",
   "metadata": {},
   "source": [
    "When you use a while loop, you need to be able to check a condition to see\n",
    "if you are done reading the file. But, to check the condition you must first try to read\n",
    "at least a little of a record."
   ]
  },
  {
   "cell_type": "markdown",
   "metadata": {},
   "source": [
    "To use a\n",
    "while loop to read from a file, we need a loop and a half. The half comes before the\n",
    "while loop."
   ]
  },
  {
   "cell_type": "code",
   "execution_count": 22,
   "metadata": {},
   "outputs": [],
   "source": [
    "import turtle"
   ]
  },
  {
   "cell_type": "code",
   "execution_count": 24,
   "metadata": {},
   "outputs": [
    {
     "name": "stdout",
     "output_type": "stream",
     "text": [
      "Please enter drawing filename: file_mltpl.txt\n",
      "Program Execution Completed.\n"
     ]
    }
   ],
   "source": [
    "def main():\n",
    "    \n",
    "    filename = input(\"Please enter drawing filename: \")\n",
    "    t = turtle.Turtle()\n",
    "    screen = t.getscreen()\n",
    "    file = open(filename, \"r\")\n",
    "    \n",
    "    # Here we have the half a loop to get things started. Reading our first\n",
    "    # graphics command here lets us determine if the file is empty or not.\n",
    "    command = file.readline().strip()\n",
    "    \n",
    "    # If the command is empty, then there are no more commands left in the file.\n",
    "    while command != \"\":\n",
    "       \n",
    "        # Now we must read the rest of the record and then process it. Because\n",
    "        # records are variable length, we’ll use an if-elif to determine which\n",
    "        # type of record it is and then we’ll read and process the record.\n",
    "        if command == \"goto\":\n",
    "            x = float(file.readline())\n",
    "            y = float(file.readline())\n",
    "            width = float(file.readline())\n",
    "            color = file.readline().strip()\n",
    "            t.width(width)\n",
    "            t.pencolor(color)\n",
    "            t.goto(x,y)\n",
    "        elif command == \"circle\":\n",
    "            radius = float(file.readline())\n",
    "            width = float(file.readline())\n",
    "            color = file.readline().strip()\n",
    "            t.width(width)\n",
    "            t.pencolor(color)\n",
    "            t.circle(radius)\n",
    "        elif command == \"beginfill\":\n",
    "            color = file.readline().strip()\n",
    "            t.fillcolor(color)\n",
    "            t.begin_fill()\n",
    "        elif command == \"endfill\":\n",
    "            t.end_fill()\n",
    "        elif command == \"penup\":\n",
    "            t.penup()\n",
    "        elif command == \"pendown\":\n",
    "            t.pendown()\n",
    "        else:\n",
    "            print(\"Unknown command found in file:\",command)\n",
    "        \n",
    "        # This is still inside the while loop. We must (attempt to) read\n",
    "        # the next command from the file. If the read succeeds, then command\n",
    "        # will not be the empty string and the loop will be repeated. If\n",
    "        # command is empty it is because there were no more commands in the\n",
    "        # file and the while loop will terminate.\n",
    "        command = file.readline().strip()\n",
    "    \n",
    "    # close the file\n",
    "    file.close()\n",
    "    t.ht()\n",
    "    screen.exitonclick()\n",
    "    print(\"Program Execution Completed.\")\n",
    "    \n",
    "main()"
   ]
  },
  {
   "cell_type": "markdown",
   "metadata": {},
   "source": [
    "### Pattern for Reading Multi-line Records from a File"
   ]
  },
  {
   "cell_type": "code",
   "execution_count": 25,
   "metadata": {},
   "outputs": [
    {
     "name": "stdout",
     "output_type": "stream",
     "text": [
      "Please enter filename: file_mltpl.txt\n",
      "beginfill black circle\n",
      "20 1 black\n",
      "endfill penup goto\n",
      "120 0 1\n",
      "black pendown beginfill\n",
      "black circle 20\n",
      "1 black endfill\n",
      "penup goto 150\n",
      "40 1 black\n",
      "pendown beginfill yellow\n",
      "goto -30 40\n",
      "1 black goto\n",
      "-30 70 1\n",
      "black goto 60\n",
      "70 1 black\n",
      "goto 60 100\n",
      "1 black goto\n",
      "90 100 1\n",
      "black goto 115\n",
      "70 1 black\n",
      "goto 150 70\n",
      "1 black goto\n",
      "150 40 1\n",
      "black endfill \n"
     ]
    }
   ],
   "source": [
    "# This line reads a line of input from the user.\n",
    "# file_mltpl.txt\n",
    "filename = input(\"Please enter filename: \")\n",
    "\n",
    "# First the file must be opened\n",
    "file = open(filename, \"r\")\n",
    "\n",
    "# Read the first line of the first record in the file. Of course, firstLine should be\n",
    "# called something that makes sense in your program.\n",
    "firstLine = file.readline().strip()\n",
    "\n",
    "while firstLine != \"\":\n",
    "    \n",
    "    # Read the rest of the record\n",
    "    secondLine = file.readline().strip()\n",
    "    thirdLine = file.readline().strip()\n",
    "    \n",
    "    # ...\n",
    "    # Then process the record. This will be determined by the program you are\n",
    "    # writing.\n",
    "    print(firstLine, secondLine, thirdLine)\n",
    "    \n",
    "    # Finally, finish the loop by reading the first line of the next record to\n",
    "    # set up for the next iteration of the loop.\n",
    "    firstLine = file.readline().strip()\n",
    "    \n",
    "# It’s a good idea to close the file, but it will be automatically closed when your\n",
    "# program terminates.\n",
    "file.close()"
   ]
  },
  {
   "cell_type": "markdown",
   "metadata": {},
   "source": [
    "## Polymorphism"
   ]
  },
  {
   "cell_type": "markdown",
   "metadata": {},
   "source": [
    "The word polymorphic literally means many forms. As this concept is applied to\n",
    "computer programming, the idea is that there can be many ways that a particular\n",
    "behavior might be implemented"
   ]
  },
  {
   "cell_type": "code",
   "execution_count": 26,
   "metadata": {},
   "outputs": [],
   "source": [
    "# Each of the command classes below hold information for one of the\n",
    "# types of commands found in a graphics file. For each command there must\n",
    "# be a draw method that is given a turtle and uses the turtle to draw\n",
    "# the object. By having a draw method for each class, we can\n",
    "# polymorphically call the right draw method when traversing a sequence of\n",
    "# these commands. Polymorphism occurs when the \"right\" draw method gets\n",
    "# called without having to know which graphics command it is being called on.\n",
    "class GoToCommand:\n",
    "    \n",
    "    # Here the constructor is defined with default values for width and color.\n",
    "    # This means we can construct a GoToCommand objects as GoToCommand(10,20),\n",
    "    # or GoToCommand(10,20,5), or GoToCommand(10,20,5,\"yellow\").\n",
    "    def __init__(self,x,y,width=1,color=\"black\"):\n",
    "        self.x = x\n",
    "        self.y = y\n",
    "        self.color = color\n",
    "        self.width = width\n",
    "\n",
    "    def draw(self,turtle):\n",
    "        turtle.width(self.width)\n",
    "        turtle.pencolor(self.color)\n",
    "        turtle.goto(self.x,self.y)\n",
    "\n",
    "class CircleCommand:\n",
    "    \n",
    "    def __init__(self,radius, width=1,color=\"black\"):\n",
    "        self.radius = radius\n",
    "        self.width = width\n",
    "        self.color = color\n",
    "\n",
    "    def draw(self,turtle):\n",
    "        turtle.width(self.width)\n",
    "        turtle.pencolor(self.color)\n",
    "        turtle.circle(self.radius)\n",
    "\n",
    "class BeginFillCommand:\n",
    "\n",
    "    def __init__(self,color):\n",
    "        self.color = color\n",
    "    \n",
    "    def draw(self,turtle):\n",
    "        turtle.fillcolor(self.color)\n",
    "        turtle.begin_fill()\n",
    "\n",
    "class EndFillCommand:\n",
    " \n",
    "    def __init__(self):\n",
    "        # pass is a statement placeholder and does nothing. We have nothing\n",
    "        # to initialize in this class because all we want is the polymorphic\n",
    "        # behavior of the draw method.\n",
    "        pass\n",
    "\n",
    "    def draw(self,turtle):\n",
    "        turtle.end_fill()\n",
    "\n",
    "class PenUpCommand:\n",
    "    \n",
    "    def __init__(self):\n",
    "        pass\n",
    "\n",
    "    def draw(self,turtle):\n",
    "        turtle.penup()\n",
    "    \n",
    "class PenDownCommand:\n",
    "    \n",
    "    def __init__(self):\n",
    "        pass\n",
    "    \n",
    "    def draw(self,turtle):\n",
    "        turtle.pendown()"
   ]
  },
  {
   "cell_type": "markdown",
   "metadata": {},
   "source": [
    "## The Accumulator Pattern"
   ]
  },
  {
   "cell_type": "markdown",
   "metadata": {},
   "source": [
    "This pattern\n",
    "is used in nearly every program we write. When using this pattern you initialize an\n",
    "accumulator before a loop and then inside the loop you add to the accumulator."
   ]
  },
  {
   "cell_type": "code",
   "execution_count": 27,
   "metadata": {},
   "outputs": [
    {
     "data": {
      "text/plain": [
       "[1, 4, 9, 16, 25, 36, 49, 64, 81, 100]"
      ]
     },
     "execution_count": 27,
     "metadata": {},
     "output_type": "execute_result"
    }
   ],
   "source": [
    "# initialize the accumulator, in this case a list\n",
    "accumulator = []\n",
    "\n",
    "# write some kind of for loop or while loop\n",
    "for i in range(1,11):\n",
    "    \n",
    "    # add to the accumulator, in this case add to the list\n",
    "    accumulator = accumulator + [i ** 2]\n",
    "\n",
    "accumulator"
   ]
  },
  {
   "cell_type": "markdown",
   "metadata": {},
   "source": [
    "### A Graphics Program"
   ]
  },
  {
   "cell_type": "code",
   "execution_count": 28,
   "metadata": {},
   "outputs": [],
   "source": [
    "import turtle"
   ]
  },
  {
   "cell_type": "code",
   "execution_count": 30,
   "metadata": {},
   "outputs": [
    {
     "name": "stdout",
     "output_type": "stream",
     "text": [
      "Please enter drawing filename: file_mltpl.txt\n",
      "Program Execution Completed.\n"
     ]
    }
   ],
   "source": [
    "# Command classes would be inserted here but are left out because they\n",
    "# were defined earlier in the chapter.\n",
    "# This is our PyList class. It holds a list of our graphics\n",
    "# commands.\n",
    "class PyList:\n",
    "    \n",
    "    def __init__(self):\n",
    "        self.items = []\n",
    "    \n",
    "    def append(self,item):\n",
    "        self.items = self.items + [item]\n",
    "    \n",
    "    # if we want to iterate over this sequence, we define the special method\n",
    "    # called __iter__(self). Without this we’ll get \"builtins.TypeError:\n",
    "    # ’PyList’ object is not iterable\" if we try to write\n",
    "    # for cmd in seq:\n",
    "    # where seq is one of these sequences. The yield below will yield an\n",
    "    # element of the sequence and will suspend the execution of the for\n",
    "    # loop in the method below until the next element is needed. The ability\n",
    "    # to yield each element of the sequence as needed is called \"lazy\" evaluation\n",
    "    # and is very powerful. It means that we only need to provide access to as\n",
    "    # many of elements of the sequence as are necessary and no more.\n",
    "    def __iter__(self):\n",
    "        for c in self.items:\n",
    "            yield c\n",
    "            \n",
    "def main():\n",
    "    \n",
    "    filename = input(\"Please enter drawing filename: \")\n",
    "    t = turtle.Turtle()\n",
    "    screen = t.getscreen()\n",
    "    file = open(filename, \"r\")\n",
    "    \n",
    "    # Create a PyList to hold the graphics commands that are\n",
    "    # read from the file.\n",
    "    graphicsCommands = PyList()\n",
    "    command = file.readline().strip()\n",
    "    \n",
    "    while command != \"\":\n",
    "    \n",
    "        # Now we must read the rest of the record and then process it .Because\n",
    "        # records are variable length, we’ll use an if-elif to determine which\n",
    "        # type of record it is and then we’ll read and process the record.\n",
    "        # In this program, processing the record means creating a command object\n",
    "        # using one of the classes above and then adding that object to our\n",
    "        # graphicsCommands PyList object.\n",
    "\n",
    "        if command == \"goto\":\n",
    "            x = float(file.readline())\n",
    "            y = float(file.readline())\n",
    "            width = float(file.readline())\n",
    "            color = file.readline().strip()\n",
    "            cmd = GoToCommand(x,y,width,color)\n",
    "        \n",
    "        elif command == \"circle\":\n",
    "            radius = float(file.readline())\n",
    "            width = float(file.readline())\n",
    "            color = file.readline().strip()\n",
    "            cmd = CircleCommand(radius,width,color)\n",
    "        \n",
    "        elif command == \"beginfill\":\n",
    "            color = file.readline().strip()\n",
    "            cmd = BeginFillCommand(color)\n",
    "        \n",
    "        elif command == \"endfill\":\n",
    "            cmd = EndFillCommand()\n",
    "        \n",
    "        elif command == \"penup\":\n",
    "            cmd = PenUpCommand()\n",
    "        \n",
    "        elif command == \"pendown\":\n",
    "            cmd = PenDownCommand()\n",
    "        \n",
    "        else:\n",
    "            \n",
    "            # raising an exception will terminate the program immediately\n",
    "            # which is what we want to happen if we encounter an unknown\n",
    "            # command. The RuntimeError exception is a common exception\n",
    "            # to raise. The string will be printed when the exception is\n",
    "            # printed.\n",
    "            raise RuntimeError(\"Unknown Command: \" + command)\n",
    "        \n",
    "        # Finish processing the record by adding the command to the sequence.\n",
    "        graphicsCommands.append(cmd)\n",
    "        \n",
    "        # Read one more line to set up for the next time through the loop.\n",
    "        command = file.readline().strip()\n",
    "    \n",
    "    # This code iterates through the commands to do the drawing and\n",
    "    # demonstrates the use of the __iter(self)__ method in the\n",
    "    # PyList class above.\n",
    "    for cmd in graphicsCommands:\n",
    "        cmd.draw(t)\n",
    "    \n",
    "    file.close()\n",
    "    t.ht()\n",
    "    screen.exitonclick()\n",
    "    print(\"Program Execution Completed.\")\n",
    "\n",
    "\n",
    "if __name__ == \"__main__\":\n",
    "    main()"
   ]
  },
  {
   "cell_type": "markdown",
   "metadata": {},
   "source": [
    "## Implementing a GUI with Tkinter"
   ]
  },
  {
   "cell_type": "markdown",
   "metadata": {},
   "source": [
    "A GUI is an event-driven program. This means that you write your code to respond\n",
    "to events that occur in the program. The events occur as a result of mouse clicks,\n",
    "dragging the mouse, button presses, and menu items being selected"
   ]
  },
  {
   "cell_type": "markdown",
   "metadata": {},
   "source": [
    "To build a GUI you place widgets in a window. Widgets are any element of a GUI\n",
    "like labels, buttons, entry boxes, and sometimes invisible widgets called frames. A\n",
    "frame is a widget that can hold other widgets"
   ]
  },
  {
   "cell_type": "code",
   "execution_count": 31,
   "metadata": {},
   "outputs": [],
   "source": [
    "import tkinter \n",
    "import turtle"
   ]
  },
  {
   "cell_type": "code",
   "execution_count": 34,
   "metadata": {},
   "outputs": [
    {
     "name": "stdout",
     "output_type": "stream",
     "text": [
      "Program Execution Completed.\n"
     ]
    }
   ],
   "source": [
    "# This class defines the drawing application. The following line says that\n",
    "# the DrawingApplication class inherits from the Frame class. This means\n",
    "# that a DrawingApplication is like a Frame object except for the code\n",
    "# written here which redefines/extends the behavior of a Frame.\n",
    "class DrawingApplication(tkinter.Frame):\n",
    "   \n",
    "    def __init__(self, master=None):\n",
    "        \n",
    "        super().__init__(master)\n",
    "        self.pack()\n",
    "        self.buildWindow()\n",
    "        self.graphicsCommands = PyList()\n",
    "    \n",
    "    # This method is called to create all the widgets, place them in the GUI,\n",
    "    # and define the event handlers for the application.\n",
    "    def buildWindow(self):\n",
    "    \n",
    "        # The master is the root window. The title is set as below.\n",
    "        self.master.title(\"Draw\")\n",
    "        # Here is how to create a menu bar. The tearoff=0 means that menus\n",
    "        # can’t be separated from the window which is a feature of tkinter.\n",
    "        bar = tkinter.Menu(self.master)\n",
    "        fileMenu = tkinter.Menu(bar,tearoff=0)\n",
    "    \n",
    "        # This code is called by the \"New\" menu item below when it is selected.\n",
    "        # The same applies for loadFile, addToFile, and saveFile below. The\n",
    "        # \"Exit\" menu item below calls quit on the \"master\" or root window.\n",
    "        def newWindow():\n",
    "\n",
    "            # This sets up the turtle to be ready for a new picture to be\n",
    "            # drawn. It also sets the sequence back to empty. It is necessary\n",
    "            # for the graphicsCommands sequence to be in the object (i.e.\n",
    "            # self.graphicsCommands) because otherwise the statement:\n",
    "            # graphicsCommands = PyList()\n",
    "            # would make this variable a local variable in the newWindow\n",
    "            # method. If it were local, it would not be set anymore once the\n",
    "            # newWindow method returned.\n",
    "            theTurtle.clear()\n",
    "            theTurtle.penup()\n",
    "            theTurtle.goto(0,0)\n",
    "            theTurtle.pendown()\n",
    "            screen.update()\n",
    "            screen.listen()\n",
    "            self.graphicsCommands = PyList()\n",
    "\n",
    "        fileMenu.add_command(label=\"New\",command=newWindow)\n",
    "    \n",
    "        # The parse function adds the contents of an XML file to the sequence.\n",
    "        def parse(filename):\n",
    "\n",
    "            xmldoc = xml.dom.minidom.parse(filename)\n",
    "            graphicsCommandsElement = xmldoc.getElementsByTagName(\"GraphicsCommands\")[0]\n",
    "            graphicsCommands = graphicsCommandsElement.getElementsByTagName(\"Command\")\n",
    "\n",
    "            for commandElement in graphicsCommands:\n",
    "\n",
    "                print(type(commandElement))\n",
    "                command = commandElement.firstChild.data.strip()\n",
    "                attr = commandElement.attributes\n",
    "\n",
    "                if command == \"GoTo\":\n",
    "\n",
    "                    x = float(attr[\"x\"].value)\n",
    "                    y = float(attr[\"y\"].value)\n",
    "                    width = float(attr[\"width\"].value)\n",
    "                    color = attr[\"color\"].value.strip()\n",
    "                    cmd = GoToCommand(x,y,width,color)\n",
    "\n",
    "                elif command == \"Circle\":\n",
    "\n",
    "                    radius = float(attr[\"radius\"].value)\n",
    "                    width = float(attr[\"width\"].value)\n",
    "                    color = attr[\"color\"].value.strip()\n",
    "                    cmd = CircleCommand(radius,width,color)\n",
    "\n",
    "                elif command == \"BeginFill\":\n",
    "                    color = attr[\"color\"].value.strip()\n",
    "                    cmd = BeginFillCommand(color)\n",
    "\n",
    "                elif command == \"EndFill\":\n",
    "                    cmd = EndFillCommand()\n",
    "\n",
    "                elif command == \"PenUp\":\n",
    "                    cmd = PenUpCommand()\n",
    "\n",
    "                elif command == \"PenDown\":\n",
    "                    cmd = PenDownCommand()\n",
    "\n",
    "                else:\n",
    "                    raise RuntimeError(\"Unknown Command: \" + command)\n",
    "\n",
    "                self.graphicsCommands.append(cmd)\n",
    "\n",
    "        def loadFile():\n",
    "\n",
    "            filename = tkinter.filedialog.askopenfilename(title=\"Select a Graphics File\")\n",
    "            \n",
    "            newWindow()\n",
    "            \n",
    "            # This re-initializes the sequence for the new picture.\n",
    "            self.graphicsCommands = PyList()\n",
    "            \n",
    "            # calling parse will read the graphics commands from the file.\n",
    "            parse(filename)\n",
    "            \n",
    "            for cmd in self.graphicsCommands:\n",
    "                cmd.draw(theTurtle)\n",
    "            \n",
    "            # This line is necessary to update the window after the picture is drawn.\n",
    "            screen.update()\n",
    "        \n",
    "        fileMenu.add_command(label=\"Load...\",command=loadFile)\n",
    "        \n",
    "        def addToFile():\n",
    "            \n",
    "            filename = tkinter.filedialog.askopenfilename(title=\"Select a Graphics File\")\n",
    "            theTurtle.penup()\n",
    "            theTurtle.goto(0,0)\n",
    "            theTurtle.pendown()\n",
    "            theTurtle.pencolor(\"#000000\")\n",
    "            theTurtle.fillcolor(\"#000000\")\n",
    "            cmd = PenUpCommand()\n",
    "            self.graphicsCommands.append(cmd)\n",
    "            cmd = GoToCommand(0,0,1,\"#000000\")\n",
    "            self.graphicsCommands.append(cmd)\n",
    "            cmd = PenDownCommand()\n",
    "            self.graphicsCommands.append(cmd)\n",
    "            screen.update()\n",
    "            parse(filename)\n",
    "            \n",
    "            for cmd in self.graphicsCommands:\n",
    "                cmd.draw(theTurtle)\n",
    "                screen.update()\n",
    "                \n",
    "        fileMenu.add_command(label=\"Load Into...\",command=addToFile)\n",
    "\n",
    "        # The write function writes an XML file to the given filename\n",
    "        def write(filename):\n",
    "\n",
    "            file = open(filename, \"w\")\n",
    "            file.write('<?xml version=\"1.0\" encoding=\"UTF-8\" standalone=\"no\" ?>\\n')\n",
    "            file.write('<GraphicsCommands>\\n')\n",
    "\n",
    "            for cmd in self.graphicsCommands:\n",
    "                file.write(' '+str(cmd)+\"\\n\")\n",
    "\n",
    "            file.write('</GraphicsCommands>\\n')\n",
    "            file.close()\n",
    "\n",
    "        def saveFile():\n",
    "            filename = tkinter.filedialog.asksaveasfilename(title=\"Save Picture As...\")\n",
    "            write(filename)\n",
    "\n",
    "        fileMenu.add_command(label=\"Save As...\",command=saveFile)\n",
    "\n",
    "        fileMenu.add_command(label=\"Exit\",command=self.master.quit)\n",
    "\n",
    "        bar.add_cascade(label=\"File\",menu=fileMenu)\n",
    "\n",
    "        # This tells the root window to display the newly created menu bar.\n",
    "        self.master.config(menu=bar)\n",
    "\n",
    "        # Here several widgets are created. The canvas is the drawing area on\n",
    "        # the left side of the window.\n",
    "        canvas = tkinter.Canvas(self,width=600,height=600)\n",
    "        canvas.pack(side=tkinter.LEFT)\n",
    "\n",
    "        # By creating a RawTurtle, we can have the turtle draw on this canvas.\n",
    "        # Otherwise, a RawTurtle and a Turtle are exactly the same.\n",
    "        theTurtle = turtle.RawTurtle(canvas)\n",
    "\n",
    "        # This makes the shape of the turtle a circle.\n",
    "        theTurtle.shape(\"circle\")\n",
    "        screen = theTurtle.getscreen()\n",
    "\n",
    "        # This causes the application to not update the screen unless\n",
    "        # screen.update() is called. This is necessary for the ondrag event\n",
    "        # handler below. Without it, the program bombs after dragging the\n",
    "        # turtle around for a while.\n",
    "        screen.tracer(0)\n",
    "\n",
    "        # This is the area on the right side of the window where all the\n",
    "        # buttons, labels, and entry boxes are located. The pad creates some empty\n",
    "        # space around the side. The side puts the sideBar on the right side of the\n",
    "        # this frame. The fill tells it to fill in all space available on the right\n",
    "        # side.\n",
    "        sideBar = tkinter.Frame(self,padx=5,pady=5)\n",
    "        sideBar.pack(side=tkinter.RIGHT, fill=tkinter.BOTH)\n",
    "\n",
    "        # This is a label widget. Packing it puts it at the top of the sidebar.\n",
    "        pointLabel = tkinter.Label(sideBar,text=\"Width\")\n",
    "        pointLabel.pack()\n",
    "\n",
    "        # This entry widget allows the user to pick a width for their lines.\n",
    "        # With the widthSize variable below you can write widthSize.get() to get\n",
    "        # the contents of the entry widget and widthSize.set(val) to set the value\n",
    "        # of the entry widget to val. Initially the widthSize is set to 1. str(1) is\n",
    "        # needed because the entry widget must be given a string.\n",
    "        widthSize = tkinter.StringVar()\n",
    "        widthEntry = tkinter.Entry(sideBar,textvariable=widthSize)\n",
    "        widthEntry.pack()\n",
    "        widthSize.set(str(1))\n",
    "\n",
    "        radiusLabel = tkinter.Label(sideBar,text=\"Radius\")\n",
    "        radiusLabel.pack()\n",
    "        radiusSize = tkinter.StringVar()\n",
    "        radiusEntry = tkinter.Entry(sideBar,textvariable=radiusSize)\n",
    "        radiusSize.set(str(10))\n",
    "        radiusEntry.pack()\n",
    "            \n",
    "        # A button widget calls an event handler when it is pressed. The circleHandler\n",
    "        # function below is the event handler when the Draw Circle button is pressed.\n",
    "        def circleHandler():\n",
    "\n",
    "            # When drawing, a command is created and then the command is drawn by calling\n",
    "            # the draw method. Adding the command to the graphicsCommands sequence means the\n",
    "            # application will remember the picture.\n",
    "            cmd = CircleCommand(float(radiusSize.get()), float(widthSize.get()), penColor.get())\n",
    "            cmd.draw(theTurtle)\n",
    "            self.graphicsCommands.append(cmd)\n",
    "            # These two lines are needed to update the screen and to put the focus back\n",
    "            # in the drawing canvas. This is necessary because when pressing \"u\" to undo,\n",
    "            # the screen must have focus to receive the key press.\n",
    "            screen.update()\n",
    "            screen.listen()\n",
    "\n",
    "        # This creates the button widget in the sideBar. The fill=tkinter.BOTH causes the button\n",
    "        # to expand to fill the entire width of the sideBar.\n",
    "        circleButton = tkinter.Button(sideBar, text = \"Draw Circle\", command=circleHandler)\n",
    "        circleButton.pack(fill=tkinter.BOTH)\n",
    "\n",
    "        # The color mode 255 below allows colors to be specified in RGB form (i.e. Red/\n",
    "        # Green/Blue). The mode allows the Red value to be set by a two digit hexadecimal\n",
    "        # number ranging from 00-FF. The same applies for Blue and Green values. The\n",
    "        # color choosers below return a string representing the selected color and a slice\n",
    "        # is taken to extract the #RRGGBB hexadecimal string that the color choosers return.\n",
    "        screen.colormode(255)\n",
    "        penLabel = tkinter.Label(sideBar,text=\"Pen Color\")\n",
    "        penLabel.pack()\n",
    "        penColor = tkinter.StringVar()\n",
    "        penEntry = tkinter.Entry(sideBar,textvariable=penColor)\n",
    "        penEntry.pack()\n",
    "        # This is the color black.\n",
    "        penColor.set(\"#000000\")\n",
    "\n",
    "        def getPenColor():\n",
    "\n",
    "            color = tkinter.colorchooser.askcolor()\n",
    "            if color != None:\n",
    "                penColor.set(str(color)[-9:-2])\n",
    "\n",
    "        penColorButton = tkinter.Button(sideBar, text = \"Pick Pen Color\", command=getPenColor)\n",
    "        penColorButton.pack(fill=tkinter.BOTH)\n",
    "\n",
    "        fillLabel = tkinter.Label(sideBar,text=\"Fill Color\")\n",
    "        fillLabel.pack()\n",
    "        fillColor = tkinter.StringVar()\n",
    "        fillEntry = tkinter.Entry(sideBar,textvariable=fillColor)\n",
    "        fillEntry.pack()\n",
    "        fillColor.set(\"#000000\")\n",
    "\n",
    "        def getFillColor():\n",
    "            color = tkinter.colorchooser.askcolor()\n",
    "            if color != None:\n",
    "                fillColor.set(str(color)[-9:-2])\n",
    "\n",
    "        fillColorButton = tkinter.Button(sideBar, text = \"Pick Fill Color\", command=getFillColor)\n",
    "        fillColorButton.pack(fill=tkinter.BOTH)\n",
    "\n",
    "        def beginFillHandler():\n",
    "            cmd = BeginFillCommand(fillColor.get())\n",
    "            cmd.draw(theTurtle)\n",
    "            self.graphicsCommands.append(cmd)\n",
    "\n",
    "        beginFillButton = tkinter.Button(sideBar, text = \"Begin Fill\", command=beginFillHandler)\n",
    "        beginFillButton.pack(fill=tkinter.BOTH)\n",
    "\n",
    "        def endFillHandler():\n",
    "            cmd = EndFillCommand()\n",
    "            cmd.draw(theTurtle)\n",
    "            self.graphicsCommands.append(cmd)\n",
    "\n",
    "        endFillButton = tkinter.Button(sideBar, text = \"End Fill\", command=endFillHandler)\n",
    "        endFillButton.pack(fill=tkinter.BOTH)\n",
    "\n",
    "        penLabel = tkinter.Label(sideBar,text=\"Pen Is Down\")\n",
    "        penLabel.pack()\n",
    "\n",
    "        def penUpHandler():\n",
    "            cmd = PenUpCommand()\n",
    "            cmd.draw(theTurtle)\n",
    "            penLabel.configure(text=\"Pen Is Up\")\n",
    "            self.graphicsCommands.append(cmd)\n",
    "\n",
    "        penUpButton = tkinter.Button(sideBar, text = \"Pen Up\", command=penUpHandler)\n",
    "        penUpButton.pack(fill=tkinter.BOTH)\n",
    "\n",
    "        def penDownHandler():\n",
    "            cmd = PenDownCommand()\n",
    "            cmd.draw(theTurtle)\n",
    "            penLabel.configure(text=\"Pen Is Down\")\n",
    "            self.graphicsCommands.append(cmd)\n",
    "\n",
    "        penDownButton = tkinter.Button(sideBar, text = \"Pen Down\", command=penDownHandler)\n",
    "        penDownButton.pack(fill=tkinter.BOTH)\n",
    "\n",
    "        # Here is another event handler. This one handles mouse clicks on the screen.\n",
    "        def clickHandler(x,y):\n",
    "            # When a mouse click occurs, get the widthSize entry value and set the width of the\n",
    "            # pen to the widthSize value. The float(widthSize.get()) is needed because\n",
    "            # the width is a float, but the entry widget stores it as a string.\n",
    "            cmd = GoToCommand(x,y,float(widthSize.get()),penColor.get())\n",
    "            cmd.draw(theTurtle)\n",
    "            self.graphicsCommands.append(cmd)\n",
    "            screen.update()\n",
    "            screen.listen()\n",
    "\n",
    "        # Here is how we tie the clickHandler to mouse clicks.\n",
    "        screen.onclick(clickHandler)\n",
    "\n",
    "        def dragHandler(x,y):\n",
    "            cmd = GoToCommand(x,y,float(widthSize.get()),penColor.get())\n",
    "            cmd.draw(theTurtle)\n",
    "            self.graphicsCommands.append(cmd)\n",
    "            screen.update()\n",
    "            screen.listen()\n",
    "\n",
    "        theTurtle.ondrag(dragHandler)\n",
    "\n",
    "        # the undoHandler undoes the last command by removing it from the\n",
    "        # sequence and then redrawing the entire picture.\n",
    "        def undoHandler():\n",
    "            if len(self.graphicsCommands) > 0:\n",
    "                self.graphicsCommands.removeLast()\n",
    "                theTurtle.clear()\n",
    "                theTurtle.penup()\n",
    "                theTurtle.goto(0,0)\n",
    "                theTurtle.pendown()\n",
    "\n",
    "                for cmd in self.graphicsCommands:\n",
    "                    cmd.draw(theTurtle)\n",
    "\n",
    "                screen.update()\n",
    "                screen.listen()\n",
    "\n",
    "        screen.onkeypress(undoHandler, \"u\")\n",
    "        screen.listen()\n",
    "\n",
    "# The main function in our GUI program is very simple. It creates the\n",
    "# root window. Then it creates the DrawingApplication frame which creates\n",
    "# all the widgets and has the logic for the event handlers. Calling mainloop\n",
    "# on the frames makes it start listening for events. The mainloop function will\n",
    "# return when the application is exited.\n",
    "def main():\n",
    "    root = tkinter.Tk()\n",
    "    drawingApp = DrawingApplication(root)\n",
    "    \n",
    "    drawingApp.mainloop()\n",
    "    print(\"Program Execution Completed.\")\n",
    "\n",
    "main()"
   ]
  },
  {
   "cell_type": "markdown",
   "metadata": {},
   "source": [
    "## XML Files"
   ]
  },
  {
   "cell_type": "markdown",
   "metadata": {},
   "source": [
    "computer programmers designed a language for\n",
    "describing data input files called XML which stands for eXtensible Markup Language."
   ]
  },
  {
   "cell_type": "markdown",
   "metadata": {},
   "source": [
    "#### XML is a meta-language for data description."
   ]
  },
  {
   "cell_type": "markdown",
   "metadata": {},
   "source": [
    "A meta-language is a language\n",
    "for describing other languages\n"
   ]
  },
  {
   "cell_type": "markdown",
   "metadata": {},
   "source": [
    "### The GoToCommand with XML Creation Code\n"
   ]
  },
  {
   "cell_type": "code",
   "execution_count": 45,
   "metadata": {},
   "outputs": [],
   "source": [
    "# The following classes define the different commands that\n",
    "# are supported by the drawing application.\n",
    "class GoToCommand:\n",
    "    \n",
    "    def __init__(self,x,y,width=1,color=\"black\"):\n",
    "        self.x = x\n",
    "        self.y = y\n",
    "        self.width = width\n",
    "        self.color = color\n",
    "    \n",
    "    # The draw method for each command draws the command\n",
    "    # using the given turtle\n",
    "    def draw(self,turtle):\n",
    "        turtle.width(self.width)\n",
    "        turtle.pencolor(self.color)\n",
    "        turtle.goto(self.x,self.y)\n",
    "    \n",
    "    # The __str__ method is a special method that is called\n",
    "    # when a command is converted to a string. The string\n",
    "    # version of the command is how it appears in the graphics\n",
    "    # file format.\n",
    "    def __str__(self):\n",
    "        return '<Command x=\"' + str(self.x) + '\" y=\"' + str(self.y) +\\\n",
    "                '\" width= \"'+ str(self.width) + '\" color=\"' +\\\n",
    "                self.color + '\">GoTo</Command>'\n"
   ]
  },
  {
   "cell_type": "markdown",
   "metadata": {},
   "source": [
    "### Writing Graphics Commands to an XML File"
   ]
  },
  {
   "cell_type": "code",
   "execution_count": null,
   "metadata": {},
   "outputs": [],
   "source": [
    "file = open(filename, \"w\")\n",
    "file.write('<?xml version=\"1.0\" encoding=\"UTF-8\" standalone=\"no\" ?>\\n')\n",
    "file.write('<GraphicsCommands>\\n')\n",
    "\n",
    "for cmd in self.graphicsCommands:\n",
    "    file.write(' '+str(cmd)+\"\\n\")\n",
    "\n",
    "file.write('</GraphicsCommands>\\n')\n",
    "file.close()\n"
   ]
  },
  {
   "cell_type": "markdown",
   "metadata": {},
   "source": [
    "## Reading XML Files"
   ]
  },
  {
   "cell_type": "markdown",
   "metadata": {},
   "source": [
    "Instead of reading an XML file by reading lines of the file, we use a special tool called a parser"
   ]
  },
  {
   "cell_type": "markdown",
   "metadata": {},
   "source": [
    "### parser"
   ]
  },
  {
   "cell_type": "markdown",
   "metadata": {},
   "source": [
    "A parser is written according to the rules of a grammar, in\n",
    "this case the XML grammar. There are many XML parsers that have been written\n",
    "and different parsers have different features."
   ]
  },
  {
   "cell_type": "code",
   "execution_count": 63,
   "metadata": {},
   "outputs": [],
   "source": [
    "import xml.dom.minidom"
   ]
  },
  {
   "cell_type": "code",
   "execution_count": 64,
   "metadata": {},
   "outputs": [],
   "source": [
    "xmldoc = xml.dom.minidom.parse('FileXML.xml')"
   ]
  },
  {
   "cell_type": "code",
   "execution_count": 65,
   "metadata": {},
   "outputs": [
    {
     "data": {
      "text/plain": [
       "<xml.dom.minidom.Document at 0x15d0c06b768>"
      ]
     },
     "execution_count": 65,
     "metadata": {},
     "output_type": "execute_result"
    }
   ],
   "source": [
    "xmldoc"
   ]
  },
  {
   "cell_type": "code",
   "execution_count": 66,
   "metadata": {},
   "outputs": [],
   "source": [
    "# you can read a specific type of element from the XML\n",
    "# file by calling the method getElementsByTagName on it.\n",
    "graphicsCommands = xmldoc.getElementsByTagName(\"GraphicsCommands\")[0]"
   ]
  },
  {
   "cell_type": "code",
   "execution_count": 67,
   "metadata": {},
   "outputs": [
    {
     "data": {
      "text/plain": [
       "<DOM Element: GraphicsCommands at 0x15d0b79e898>"
      ]
     },
     "execution_count": 67,
     "metadata": {},
     "output_type": "execute_result"
    }
   ],
   "source": [
    "graphicsCommands"
   ]
  },
  {
   "cell_type": "markdown",
   "metadata": {},
   "source": [
    "### Using an XML Parser"
   ]
  },
  {
   "cell_type": "code",
   "execution_count": 58,
   "metadata": {},
   "outputs": [
    {
     "ename": "TypeError",
     "evalue": "'Element' object is not iterable",
     "output_type": "error",
     "traceback": [
      "\u001b[1;31m---------------------------------------------------------------------------\u001b[0m",
      "\u001b[1;31mTypeError\u001b[0m                                 Traceback (most recent call last)",
      "\u001b[1;32m<ipython-input-58-25977c20e913>\u001b[0m in \u001b[0;36m<module>\u001b[1;34m\u001b[0m\n\u001b[1;32m----> 1\u001b[1;33m \u001b[1;32mfor\u001b[0m \u001b[0mcommandElement\u001b[0m \u001b[1;32min\u001b[0m \u001b[0mgraphicsCommands\u001b[0m\u001b[1;33m:\u001b[0m\u001b[1;33m\u001b[0m\u001b[1;33m\u001b[0m\u001b[0m\n\u001b[0m\u001b[0;32m      2\u001b[0m \u001b[1;33m\u001b[0m\u001b[0m\n\u001b[0;32m      3\u001b[0m     \u001b[0mprint\u001b[0m\u001b[1;33m(\u001b[0m\u001b[0mtype\u001b[0m\u001b[1;33m(\u001b[0m\u001b[0mcommandElement\u001b[0m\u001b[1;33m)\u001b[0m\u001b[1;33m)\u001b[0m\u001b[1;33m\u001b[0m\u001b[1;33m\u001b[0m\u001b[0m\n\u001b[0;32m      4\u001b[0m     \u001b[0mcommand\u001b[0m \u001b[1;33m=\u001b[0m \u001b[0mcommandElement\u001b[0m\u001b[1;33m.\u001b[0m\u001b[0mfirstChild\u001b[0m\u001b[1;33m.\u001b[0m\u001b[0mdata\u001b[0m\u001b[1;33m.\u001b[0m\u001b[0mstrip\u001b[0m\u001b[1;33m(\u001b[0m\u001b[1;33m)\u001b[0m\u001b[1;33m\u001b[0m\u001b[1;33m\u001b[0m\u001b[0m\n\u001b[0;32m      5\u001b[0m     \u001b[0mattr\u001b[0m \u001b[1;33m=\u001b[0m \u001b[0mcommandElement\u001b[0m\u001b[1;33m.\u001b[0m\u001b[0mattributes\u001b[0m\u001b[1;33m\u001b[0m\u001b[1;33m\u001b[0m\u001b[0m\n",
      "\u001b[1;31mTypeError\u001b[0m: 'Element' object is not iterable"
     ]
    }
   ],
   "source": [
    "for commandElement in graphicsCommands:\n",
    "    \n",
    "    print(type(commandElement))\n",
    "    command = commandElement.firstChild.data.strip()\n",
    "    attr = commandElement.attributes\n",
    "    \n",
    "    if command == \"GoTo\":\n",
    "        x = float(attr[\"x\"].value)\n",
    "        y = float(attr[\"y\"].value)\n",
    "        width = float(attr[\"width\"].value)\n",
    "        color = attr[\"color\"].value.strip()\n",
    "        cmd = GoToCommand(x,y,width,color)\n",
    "    \n",
    "    elif command == \"Circle\":\n",
    "        radius = float(attr[\"radius\"].value)\n",
    "        width = float(attr[\"width\"].value)\n",
    "        color = attr[\"color\"].value.strip()\n",
    "        cmd = CircleCommand(radius,width,color)\n",
    "    \n",
    "    elif command == \"BeginFill\":\n",
    "        color = attr[\"color\"].value.strip()\n",
    "        cmd = BeginFillCommand(color)\n",
    "    \n",
    "    elif command == \"EndFill\":\n",
    "        cmd = EndFillCommand()\n",
    "    \n",
    "    elif command == \"PenUp\":\n",
    "        cmd = PenUpCommand()\n",
    "    \n",
    "    elif command == \"PenDown\":\n",
    "        cmd = PenDownCommand()\n",
    "    \n",
    "    else:\n",
    "        raise RuntimeError(\"Unknown Command: \" + command)\n",
    "    \n",
    "    self.append(cmd)"
   ]
  },
  {
   "cell_type": "code",
   "execution_count": null,
   "metadata": {},
   "outputs": [],
   "source": []
  }
 ],
 "metadata": {
  "kernelspec": {
   "display_name": "Python 3",
   "language": "python",
   "name": "python3"
  },
  "language_info": {
   "codemirror_mode": {
    "name": "ipython",
    "version": 3
   },
   "file_extension": ".py",
   "mimetype": "text/x-python",
   "name": "python",
   "nbconvert_exporter": "python",
   "pygments_lexer": "ipython3",
   "version": "3.7.3"
  }
 },
 "nbformat": 4,
 "nbformat_minor": 2
}
